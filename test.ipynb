{
  "nbformat": 4,
  "nbformat_minor": 0,
  "metadata": {
    "colab": {
      "name": "Copy of Untitled2.ipynb",
      "provenance": [],
      "mount_file_id": "1gABem0-XQOd_Gkgg02h18_iJxy5QqjDG",
      "authorship_tag": "ABX9TyNZCaX0IqA5UWOzwPdvCmgL",
      "include_colab_link": true
    },
    "kernelspec": {
      "name": "python3",
      "display_name": "Python 3"
    },
    "language_info": {
      "name": "python"
    },
    "accelerator": "GPU"
  },
  "cells": [
    {
      "cell_type": "markdown",
      "metadata": {
        "id": "view-in-github",
        "colab_type": "text"
      },
      "source": [
        "<a href=\"https://colab.research.google.com/github/HuixianZhang/Vision-Transformer-Covid/blob/main/test.ipynb\" target=\"_parent\"><img src=\"https://colab.research.google.com/assets/colab-badge.svg\" alt=\"Open In Colab\"/></a>"
      ]
    },
    {
      "cell_type": "code",
      "metadata": {
        "colab": {
          "base_uri": "https://localhost:8080/"
        },
        "id": "BhaC3TPvf4vq",
        "outputId": "c7af8144-6801-48c3-98ca-aa52141f2279"
      },
      "source": [
        "!pip install vit-keras"
      ],
      "execution_count": null,
      "outputs": [
        {
          "output_type": "stream",
          "name": "stdout",
          "text": [
            "Collecting vit-keras\n",
            "  Downloading vit_keras-0.1.0-py3-none-any.whl (24 kB)\n",
            "Requirement already satisfied: scipy in /usr/local/lib/python3.7/dist-packages (from vit-keras) (1.4.1)\n",
            "Collecting validators\n",
            "  Downloading validators-0.18.2-py3-none-any.whl (19 kB)\n",
            "Requirement already satisfied: numpy>=1.13.3 in /usr/local/lib/python3.7/dist-packages (from scipy->vit-keras) (1.19.5)\n",
            "Requirement already satisfied: decorator>=3.4.0 in /usr/local/lib/python3.7/dist-packages (from validators->vit-keras) (4.4.2)\n",
            "Requirement already satisfied: six>=1.4.0 in /usr/local/lib/python3.7/dist-packages (from validators->vit-keras) (1.15.0)\n",
            "Installing collected packages: validators, vit-keras\n",
            "Successfully installed validators-0.18.2 vit-keras-0.1.0\n"
          ]
        }
      ]
    },
    {
      "cell_type": "code",
      "metadata": {
        "colab": {
          "base_uri": "https://localhost:8080/"
        },
        "id": "JlffIyVCgDFd",
        "outputId": "978d095f-42bb-4d83-aabe-f724078f6a42"
      },
      "source": [
        "!pip install tensorflow-addons"
      ],
      "execution_count": null,
      "outputs": [
        {
          "output_type": "stream",
          "name": "stdout",
          "text": [
            "Collecting tensorflow-addons\n",
            "  Downloading tensorflow_addons-0.15.0-cp37-cp37m-manylinux_2_12_x86_64.manylinux2010_x86_64.whl (1.1 MB)\n",
            "\u001b[?25l\r\u001b[K     |▎                               | 10 kB 24.6 MB/s eta 0:00:01\r\u001b[K     |▋                               | 20 kB 9.4 MB/s eta 0:00:01\r\u001b[K     |▉                               | 30 kB 8.3 MB/s eta 0:00:01\r\u001b[K     |█▏                              | 40 kB 7.7 MB/s eta 0:00:01\r\u001b[K     |█▌                              | 51 kB 5.2 MB/s eta 0:00:01\r\u001b[K     |█▊                              | 61 kB 5.6 MB/s eta 0:00:01\r\u001b[K     |██                              | 71 kB 6.0 MB/s eta 0:00:01\r\u001b[K     |██▍                             | 81 kB 5.3 MB/s eta 0:00:01\r\u001b[K     |██▋                             | 92 kB 4.9 MB/s eta 0:00:01\r\u001b[K     |███                             | 102 kB 5.4 MB/s eta 0:00:01\r\u001b[K     |███▎                            | 112 kB 5.4 MB/s eta 0:00:01\r\u001b[K     |███▌                            | 122 kB 5.4 MB/s eta 0:00:01\r\u001b[K     |███▉                            | 133 kB 5.4 MB/s eta 0:00:01\r\u001b[K     |████▏                           | 143 kB 5.4 MB/s eta 0:00:01\r\u001b[K     |████▍                           | 153 kB 5.4 MB/s eta 0:00:01\r\u001b[K     |████▊                           | 163 kB 5.4 MB/s eta 0:00:01\r\u001b[K     |█████                           | 174 kB 5.4 MB/s eta 0:00:01\r\u001b[K     |█████▎                          | 184 kB 5.4 MB/s eta 0:00:01\r\u001b[K     |█████▋                          | 194 kB 5.4 MB/s eta 0:00:01\r\u001b[K     |█████▉                          | 204 kB 5.4 MB/s eta 0:00:01\r\u001b[K     |██████▏                         | 215 kB 5.4 MB/s eta 0:00:01\r\u001b[K     |██████▌                         | 225 kB 5.4 MB/s eta 0:00:01\r\u001b[K     |██████▊                         | 235 kB 5.4 MB/s eta 0:00:01\r\u001b[K     |███████                         | 245 kB 5.4 MB/s eta 0:00:01\r\u001b[K     |███████▍                        | 256 kB 5.4 MB/s eta 0:00:01\r\u001b[K     |███████▋                        | 266 kB 5.4 MB/s eta 0:00:01\r\u001b[K     |████████                        | 276 kB 5.4 MB/s eta 0:00:01\r\u001b[K     |████████▎                       | 286 kB 5.4 MB/s eta 0:00:01\r\u001b[K     |████████▌                       | 296 kB 5.4 MB/s eta 0:00:01\r\u001b[K     |████████▉                       | 307 kB 5.4 MB/s eta 0:00:01\r\u001b[K     |█████████                       | 317 kB 5.4 MB/s eta 0:00:01\r\u001b[K     |█████████▍                      | 327 kB 5.4 MB/s eta 0:00:01\r\u001b[K     |█████████▊                      | 337 kB 5.4 MB/s eta 0:00:01\r\u001b[K     |██████████                      | 348 kB 5.4 MB/s eta 0:00:01\r\u001b[K     |██████████▎                     | 358 kB 5.4 MB/s eta 0:00:01\r\u001b[K     |██████████▋                     | 368 kB 5.4 MB/s eta 0:00:01\r\u001b[K     |██████████▉                     | 378 kB 5.4 MB/s eta 0:00:01\r\u001b[K     |███████████▏                    | 389 kB 5.4 MB/s eta 0:00:01\r\u001b[K     |███████████▌                    | 399 kB 5.4 MB/s eta 0:00:01\r\u001b[K     |███████████▊                    | 409 kB 5.4 MB/s eta 0:00:01\r\u001b[K     |████████████                    | 419 kB 5.4 MB/s eta 0:00:01\r\u001b[K     |████████████▍                   | 430 kB 5.4 MB/s eta 0:00:01\r\u001b[K     |████████████▋                   | 440 kB 5.4 MB/s eta 0:00:01\r\u001b[K     |█████████████                   | 450 kB 5.4 MB/s eta 0:00:01\r\u001b[K     |█████████████▎                  | 460 kB 5.4 MB/s eta 0:00:01\r\u001b[K     |█████████████▌                  | 471 kB 5.4 MB/s eta 0:00:01\r\u001b[K     |█████████████▉                  | 481 kB 5.4 MB/s eta 0:00:01\r\u001b[K     |██████████████                  | 491 kB 5.4 MB/s eta 0:00:01\r\u001b[K     |██████████████▍                 | 501 kB 5.4 MB/s eta 0:00:01\r\u001b[K     |██████████████▊                 | 512 kB 5.4 MB/s eta 0:00:01\r\u001b[K     |███████████████                 | 522 kB 5.4 MB/s eta 0:00:01\r\u001b[K     |███████████████▎                | 532 kB 5.4 MB/s eta 0:00:01\r\u001b[K     |███████████████▋                | 542 kB 5.4 MB/s eta 0:00:01\r\u001b[K     |███████████████▉                | 552 kB 5.4 MB/s eta 0:00:01\r\u001b[K     |████████████████▏               | 563 kB 5.4 MB/s eta 0:00:01\r\u001b[K     |████████████████▌               | 573 kB 5.4 MB/s eta 0:00:01\r\u001b[K     |████████████████▊               | 583 kB 5.4 MB/s eta 0:00:01\r\u001b[K     |█████████████████               | 593 kB 5.4 MB/s eta 0:00:01\r\u001b[K     |█████████████████▍              | 604 kB 5.4 MB/s eta 0:00:01\r\u001b[K     |█████████████████▋              | 614 kB 5.4 MB/s eta 0:00:01\r\u001b[K     |██████████████████              | 624 kB 5.4 MB/s eta 0:00:01\r\u001b[K     |██████████████████▏             | 634 kB 5.4 MB/s eta 0:00:01\r\u001b[K     |██████████████████▌             | 645 kB 5.4 MB/s eta 0:00:01\r\u001b[K     |██████████████████▉             | 655 kB 5.4 MB/s eta 0:00:01\r\u001b[K     |███████████████████             | 665 kB 5.4 MB/s eta 0:00:01\r\u001b[K     |███████████████████▍            | 675 kB 5.4 MB/s eta 0:00:01\r\u001b[K     |███████████████████▊            | 686 kB 5.4 MB/s eta 0:00:01\r\u001b[K     |████████████████████            | 696 kB 5.4 MB/s eta 0:00:01\r\u001b[K     |████████████████████▎           | 706 kB 5.4 MB/s eta 0:00:01\r\u001b[K     |████████████████████▋           | 716 kB 5.4 MB/s eta 0:00:01\r\u001b[K     |████████████████████▉           | 727 kB 5.4 MB/s eta 0:00:01\r\u001b[K     |█████████████████████▏          | 737 kB 5.4 MB/s eta 0:00:01\r\u001b[K     |█████████████████████▌          | 747 kB 5.4 MB/s eta 0:00:01\r\u001b[K     |█████████████████████▊          | 757 kB 5.4 MB/s eta 0:00:01\r\u001b[K     |██████████████████████          | 768 kB 5.4 MB/s eta 0:00:01\r\u001b[K     |██████████████████████▎         | 778 kB 5.4 MB/s eta 0:00:01\r\u001b[K     |██████████████████████▋         | 788 kB 5.4 MB/s eta 0:00:01\r\u001b[K     |███████████████████████         | 798 kB 5.4 MB/s eta 0:00:01\r\u001b[K     |███████████████████████▏        | 808 kB 5.4 MB/s eta 0:00:01\r\u001b[K     |███████████████████████▌        | 819 kB 5.4 MB/s eta 0:00:01\r\u001b[K     |███████████████████████▉        | 829 kB 5.4 MB/s eta 0:00:01\r\u001b[K     |████████████████████████        | 839 kB 5.4 MB/s eta 0:00:01\r\u001b[K     |████████████████████████▍       | 849 kB 5.4 MB/s eta 0:00:01\r\u001b[K     |████████████████████████▊       | 860 kB 5.4 MB/s eta 0:00:01\r\u001b[K     |█████████████████████████       | 870 kB 5.4 MB/s eta 0:00:01\r\u001b[K     |█████████████████████████▎      | 880 kB 5.4 MB/s eta 0:00:01\r\u001b[K     |█████████████████████████▋      | 890 kB 5.4 MB/s eta 0:00:01\r\u001b[K     |█████████████████████████▉      | 901 kB 5.4 MB/s eta 0:00:01\r\u001b[K     |██████████████████████████▏     | 911 kB 5.4 MB/s eta 0:00:01\r\u001b[K     |██████████████████████████▌     | 921 kB 5.4 MB/s eta 0:00:01\r\u001b[K     |██████████████████████████▊     | 931 kB 5.4 MB/s eta 0:00:01\r\u001b[K     |███████████████████████████     | 942 kB 5.4 MB/s eta 0:00:01\r\u001b[K     |███████████████████████████▎    | 952 kB 5.4 MB/s eta 0:00:01\r\u001b[K     |███████████████████████████▋    | 962 kB 5.4 MB/s eta 0:00:01\r\u001b[K     |████████████████████████████    | 972 kB 5.4 MB/s eta 0:00:01\r\u001b[K     |████████████████████████████▏   | 983 kB 5.4 MB/s eta 0:00:01\r\u001b[K     |████████████████████████████▌   | 993 kB 5.4 MB/s eta 0:00:01\r\u001b[K     |████████████████████████████▉   | 1.0 MB 5.4 MB/s eta 0:00:01\r\u001b[K     |█████████████████████████████   | 1.0 MB 5.4 MB/s eta 0:00:01\r\u001b[K     |█████████████████████████████▍  | 1.0 MB 5.4 MB/s eta 0:00:01\r\u001b[K     |█████████████████████████████▊  | 1.0 MB 5.4 MB/s eta 0:00:01\r\u001b[K     |██████████████████████████████  | 1.0 MB 5.4 MB/s eta 0:00:01\r\u001b[K     |██████████████████████████████▎ | 1.1 MB 5.4 MB/s eta 0:00:01\r\u001b[K     |██████████████████████████████▋ | 1.1 MB 5.4 MB/s eta 0:00:01\r\u001b[K     |██████████████████████████████▉ | 1.1 MB 5.4 MB/s eta 0:00:01\r\u001b[K     |███████████████████████████████▏| 1.1 MB 5.4 MB/s eta 0:00:01\r\u001b[K     |███████████████████████████████▍| 1.1 MB 5.4 MB/s eta 0:00:01\r\u001b[K     |███████████████████████████████▊| 1.1 MB 5.4 MB/s eta 0:00:01\r\u001b[K     |████████████████████████████████| 1.1 MB 5.4 MB/s \n",
            "\u001b[?25hRequirement already satisfied: typeguard>=2.7 in /usr/local/lib/python3.7/dist-packages (from tensorflow-addons) (2.7.1)\n",
            "Installing collected packages: tensorflow-addons\n",
            "Successfully installed tensorflow-addons-0.15.0\n"
          ]
        }
      ]
    },
    {
      "cell_type": "code",
      "metadata": {
        "id": "P8wca1fJdsoF"
      },
      "source": [
        "# from tensorflow import keras\n",
        "# model = keras.models.load_model('/content/drive/MyDrive/model_vit_covid.hdf5')\n",
        "# from vit_keras import vit\n",
        "# from keras.models import load_model\n",
        "# import tensorflow as tf\n",
        "# import tensorflow_addons as tfa\n",
        "import pandas as pd\n",
        "import numpy as np\n",
        "import tensorflow as tf\n",
        "import tensorflow_addons as tfa\n",
        "import glob, warnings\n",
        "import matplotlib.pyplot as plt\n",
        "from sklearn.metrics import confusion_matrix, classification_report\n",
        "from vit_keras import vit\n",
        "\n",
        "# warnings.filterwarnings('ignore')\n",
        "# print('TensorFlow Version ' + tf.__version__)\n",
        "\n",
        "# vit_model = vit.vit_b32(\n",
        "#         image_size = 256,\n",
        "#         activation = 'softmax',\n",
        "#         pretrained = True,\n",
        "#         include_top = False,\n",
        "#         pretrained_top = False,\n",
        "#         classes = 4)\n",
        "\n",
        "\n",
        "# model = tf.keras.Sequential([\n",
        "#         vit_model,\n",
        "#         tf.keras.layers.Flatten(),\n",
        "#         tf.keras.layers.BatchNormalization(),\n",
        "#         tf.keras.layers.Dense(11, activation = tfa.activations.gelu),\n",
        "#         tf.keras.layers.BatchNormalization(),\n",
        "#         tf.keras.layers.Dense(4, 'softmax')\n",
        "#     ],\n",
        "#     name = 'vision_transformer')\n",
        "# model = model.load_weights('/content/drive/MyDrive/model_vit_covid_test.hdf5')\n",
        "# print(model)"
      ],
      "execution_count": null,
      "outputs": []
    },
    {
      "cell_type": "code",
      "metadata": {
        "colab": {
          "base_uri": "https://localhost:8080/"
        },
        "id": "mPPf3R5UhCiH",
        "outputId": "e0663eae-96ce-4f26-8d0d-e46baf91353e"
      },
      "source": [
        "\n",
        "IMAGE_SIZE = 256\n",
        "BATCH_SIZE = 16\n",
        "EPOCHS = 20\n",
        "\n",
        "\n",
        "TEST_PATH = '/content/drive/MyDrive/test_new'\n",
        "\n",
        "\n",
        "TEST_IMAGES = glob.glob(TEST_PATH + '/*.png')\n",
        "DF_TEST = pd.DataFrame(TEST_IMAGES, columns = ['image_path'])\n",
        "\n",
        "classes = {0 : \"COVID\",\n",
        "           1 : \"Lung_Opacity\",\n",
        "           2 : \"Normal\",\n",
        "           3 : \"Viral Pneumonia\"}\n",
        "\n",
        "def data_augment(image):\n",
        "    p_spatial = tf.random.uniform([], 0, 1.0, dtype = tf.float32)\n",
        "    p_rotate = tf.random.uniform([], 0, 1.0, dtype = tf.float32)\n",
        "    p_pixel_1 = tf.random.uniform([], 0, 1.0, dtype = tf.float32)\n",
        "    p_pixel_2 = tf.random.uniform([], 0, 1.0, dtype = tf.float32)\n",
        "    p_pixel_3 = tf.random.uniform([], 0, 1.0, dtype = tf.float32)\n",
        "    \n",
        "    # Flips\n",
        "    image = tf.image.random_flip_left_right(image)\n",
        "    image = tf.image.random_flip_up_down(image)\n",
        "    \n",
        "    if p_spatial > .75:\n",
        "        image = tf.image.transpose(image)\n",
        "        \n",
        "    # Rotates\n",
        "    if p_rotate > .75:\n",
        "        image = tf.image.rot90(image, k = 3) # rotate 270º\n",
        "    elif p_rotate > .5:\n",
        "        image = tf.image.rot90(image, k = 2) # rotate 180º\n",
        "    elif p_rotate > .25:\n",
        "        image = tf.image.rot90(image, k = 1) # rotate 90º\n",
        "        \n",
        "    # Pixel-level transforms\n",
        "    if p_pixel_1 >= .4:\n",
        "        image = tf.image.random_saturation(image, lower = .7, upper = 1.3)\n",
        "    if p_pixel_2 >= .4:\n",
        "        image = tf.image.random_contrast(image, lower = .8, upper = 1.2)\n",
        "    if p_pixel_3 >= .4:\n",
        "        image = tf.image.random_brightness(image, max_delta = .1)\n",
        "        \n",
        "    return image\n",
        "\n",
        "\n",
        "datagen = tf.keras.preprocessing.image.ImageDataGenerator(rescale = 1./255,\n",
        "                                                          samplewise_center = True,\n",
        "                                                          samplewise_std_normalization = True,\n",
        "                                                          validation_split = 0.2,\n",
        "                                                          preprocessing_function = data_augment)\n",
        "\n",
        "# train_gen = datagen.flow_from_dataframe(dataframe = DF_TRAIN,\n",
        "#                                         directory = TRAIN_PATH,\n",
        "#                                         x_col = 'image_id',\n",
        "#                                         y_col = 'label',\n",
        "#                                         subset = 'training',\n",
        "#                                         batch_size = BATCH_SIZE,\n",
        "#                                         seed = 1,\n",
        "#                                         color_mode = 'rgb',\n",
        "#                                         shuffle = True,\n",
        "#                                         class_mode = 'categorical',\n",
        "#                                         target_size = (IMAGE_SIZE, IMAGE_SIZE))\n",
        "\n",
        "# valid_gen = datagen.flow_from_dataframe(dataframe = DF_TRAIN,\n",
        "#                                         directory = TRAIN_PATH,\n",
        "#                                         x_col = 'image_id',\n",
        "#                                         y_col = 'label',\n",
        "#                                         subset = 'validation',\n",
        "#                                         batch_size = BATCH_SIZE,\n",
        "#                                         seed = 1,\n",
        "#                                         color_mode = 'rgb',\n",
        "#                                         shuffle = False,\n",
        "#                                         class_mode = 'categorical',\n",
        "#                                         target_size = (IMAGE_SIZE, IMAGE_SIZE))\n",
        "\n",
        "test_gen = datagen.flow_from_dataframe(dataframe = DF_TEST,\n",
        "                                       x_col = 'image_path',\n",
        "                                       y_col = None,\n",
        "                                       batch_size = BATCH_SIZE,\n",
        "                                       seed = 1,\n",
        "                                       color_mode = 'rgb',\n",
        "                                       shuffle = False,\n",
        "                                       class_mode = None,\n",
        "                                       target_size = (IMAGE_SIZE, IMAGE_SIZE))\n",
        "# images = [train_gen[0][0][i] for i in range(16)]\n",
        "# fig, axes = plt.subplots(3, 5, figsize = (10, 10))\n",
        "\n",
        "# axes = axes.flatten()\n",
        "\n",
        "# for img, ax in zip(images, axes):\n",
        "#     ax.imshow(img.reshape(IMAGE_SIZE, IMAGE_SIZE, 3))\n",
        "#     ax.axis('off')\n",
        "\n",
        "# plt.tight_layout()\n",
        "# plt.show()\n",
        "\n",
        "# !pip install --quiet vit-keras\n",
        "\n",
        "\n",
        "\n",
        "vit_model = vit.vit_b32(\n",
        "        image_size = IMAGE_SIZE,\n",
        "        activation = 'softmax',\n",
        "        pretrained = True,\n",
        "        include_top = False,\n",
        "        pretrained_top = False,\n",
        "        classes = 4)\n",
        "\n",
        "\n",
        "model = tf.keras.Sequential([\n",
        "        vit_model,\n",
        "        tf.keras.layers.Flatten(),\n",
        "        tf.keras.layers.BatchNormalization(),\n",
        "        tf.keras.layers.Dense(11, activation = tfa.activations.gelu),\n",
        "        tf.keras.layers.BatchNormalization(),\n",
        "        tf.keras.layers.Dense(4, 'softmax')\n",
        "    ],\n",
        "    name = 'vision_transformer')\n",
        "\n",
        "# model.summary()\n",
        "# learning_rate = 1e-4\n",
        "\n",
        "# optimizer = tfa.optimizers.RectifiedAdam(learning_rate = learning_rate)\n",
        "\n",
        "# model.compile(optimizer = optimizer, \n",
        "#               loss = tf.keras.losses.CategoricalCrossentropy(label_smoothing = 0.2), \n",
        "#               metrics = ['accuracy'])\n",
        "\n",
        "# STEP_SIZE_TRAIN = train_gen.n // train_gen.batch_size\n",
        "# STEP_SIZE_VALID = valid_gen.n // valid_gen.batch_size\n",
        "\n",
        "# reduce_lr = tf.keras.callbacks.ReduceLROnPlateau(monitor = 'val_accuracy',\n",
        "#                                                  factor = 0.2,\n",
        "#                                                  patience = 2,\n",
        "#                                                  verbose = 1,\n",
        "#                                                  min_delta = 1e-4,\n",
        "#                                                  min_lr = 1e-6,\n",
        "#                                                  mode = 'max')\n",
        "\n",
        "# earlystopping = tf.keras.callbacks.EarlyStopping(monitor = 'val_accuracy',\n",
        "#                                                  min_delta = 1e-4,\n",
        "#                                                  patience = 5,\n",
        "#                                                  mode = 'max',\n",
        "#                                                  restore_best_weights = True,\n",
        "#                                                  verbose = 1)\n",
        "\n",
        "# checkpointer = tf.keras.callbacks.ModelCheckpoint(filepath = '/content/drive/MyDrive/model_vit_covid.hdf5',\n",
        "#                                                   monitor = 'val_accuracy', \n",
        "#                                                   verbose = 1, \n",
        "#                                                   save_best_only = True,\n",
        "#                                                   save_weights_only = True,\n",
        "#                                                   mode = 'max')\n",
        "\n",
        "# callbacks = [earlystopping, reduce_lr, checkpointer]\n",
        "\n",
        "# model.fit(x = train_gen,\n",
        "#           steps_per_epoch = STEP_SIZE_TRAIN,\n",
        "#           validation_data = valid_gen,\n",
        "#           validation_steps = STEP_SIZE_VALID,\n",
        "#           epochs = EPOCHS,\n",
        "#           callbacks = callbacks)\n",
        "\n",
        "# # model.save('model.h5', save_weights_only = True)\n",
        "# model.save('/content/drive/MyDrive/model_vit_covid.h5')\n",
        "# predicted_classes = np.argmax(model.predict(valid_gen, steps = valid_gen.n // valid_gen.batch_size + 1), axis = 1)\n",
        "# true_classes = valid_gen.classes\n",
        "# class_labels = list(valid_gen.class_indices.keys())  \n",
        "\n",
        "# confusionmatrix = confusion_matrix(true_classes, predicted_classes)\n",
        "# plt.figure(figsize = (16, 16))\n",
        "# sns.heatmap(confusionmatrix, cmap = 'Blues', annot = True, cbar = True)\n",
        "\n",
        "# print(classification_report(true_classes, predicted_classes))\n",
        "print(model)"
      ],
      "execution_count": null,
      "outputs": [
        {
          "output_type": "stream",
          "name": "stdout",
          "text": [
            "Found 4233 validated image filenames.\n",
            "Downloading data from https://github.com/faustomorales/vit-keras/releases/download/dl/ViT-B_32_imagenet21k+imagenet2012.npz\n",
            "353255424/353253686 [==============================] - 5s 0us/step\n",
            "353263616/353253686 [==============================] - 5s 0us/step\n"
          ]
        },
        {
          "output_type": "stream",
          "name": "stderr",
          "text": [
            "/usr/local/lib/python3.7/dist-packages/vit_keras/utils.py:83: UserWarning: Resizing position embeddings from 12, 12 to 8, 8\n",
            "  UserWarning,\n"
          ]
        },
        {
          "output_type": "stream",
          "name": "stdout",
          "text": [
            "<keras.engine.sequential.Sequential object at 0x7fe55af6e5d0>\n"
          ]
        }
      ]
    },
    {
      "cell_type": "code",
      "metadata": {
        "id": "KHkXYnVuhsU0"
      },
      "source": [
        "model.load_weights('/content/drive/MyDrive/model_vit_covid_test.hdf5')\n",
        "# print(model.predict(test_gen))"
      ],
      "execution_count": null,
      "outputs": []
    },
    {
      "cell_type": "code",
      "metadata": {
        "id": "MdWtcUcbr8FK"
      },
      "source": [
        "# print(test_gen.filenames)"
      ],
      "execution_count": null,
      "outputs": []
    },
    {
      "cell_type": "code",
      "metadata": {
        "id": "TFlWJXwosd1b"
      },
      "source": [
        "# print(len(test_gen))"
      ],
      "execution_count": null,
      "outputs": []
    },
    {
      "cell_type": "code",
      "metadata": {
        "id": "-yMJYMQssxQm"
      },
      "source": [
        "# print(len(test_gen.filenames))"
      ],
      "execution_count": null,
      "outputs": []
    },
    {
      "cell_type": "code",
      "metadata": {
        "id": "BQAP5szds2CI"
      },
      "source": [
        "# for i in range(len(test_gen.filenames)):\n",
        "#   print(test_gen.filenames[i])"
      ],
      "execution_count": null,
      "outputs": []
    },
    {
      "cell_type": "code",
      "metadata": {
        "id": "wuuBRP8btaKU"
      },
      "source": [
        "predicted_classes = np.argmax(model.predict(test_gen), axis = 1)\n"
      ],
      "execution_count": null,
      "outputs": []
    },
    {
      "cell_type": "code",
      "metadata": {
        "id": "x7PXVjayuBaH"
      },
      "source": [
        "# print(predicted_classes)"
      ],
      "execution_count": null,
      "outputs": []
    },
    {
      "cell_type": "code",
      "metadata": {
        "id": "1GJLTjfuuEDh",
        "colab": {
          "base_uri": "https://localhost:8080/"
        },
        "outputId": "a9218ade-ccfd-4bcb-bf2e-8432726828ab"
      },
      "source": [
        "true_classes =[]\n",
        "for i in range(len(test_gen.filenames)):\n",
        "  # print(test_gen.filenames[i])\n",
        "  if 'COVID' in test_gen.filenames[i]:\n",
        "    true_classes.append(0)\n",
        "  if 'Lung' in test_gen.filenames[i]:\n",
        "    true_classes.append(1)\n",
        "  if 'Normal' in test_gen.filenames[i]:\n",
        "    true_classes.append(2)\n",
        "  if 'Viral' in test_gen.filenames[i]:\n",
        "    true_classes.append(3)\n",
        "\n",
        "\n",
        "print(len(true_classes))"
      ],
      "execution_count": null,
      "outputs": [
        {
          "output_type": "stream",
          "name": "stdout",
          "text": [
            "4233\n"
          ]
        }
      ]
    },
    {
      "cell_type": "code",
      "metadata": {
        "id": "vHIXoDP0v07B",
        "colab": {
          "base_uri": "https://localhost:8080/"
        },
        "outputId": "d9d82310-7dc7-4a70-b792-f62148770e32"
      },
      "source": [
        "count =0 \n",
        "for j in range(len(true_classes)):\n",
        "  if true_classes[j] == predicted_classes[j]:\n",
        "    count+=1\n",
        "acc = count/4233\n",
        "print(acc)"
      ],
      "execution_count": null,
      "outputs": [
        {
          "output_type": "stream",
          "name": "stdout",
          "text": [
            "0.8977084809827546\n"
          ]
        }
      ]
    }
  ]
}